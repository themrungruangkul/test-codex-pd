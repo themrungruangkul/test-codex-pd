{
 "cells": [
  {
   "cell_type": "markdown",
   "metadata": {},
   "source": [
    "# Feature Engineering Prototyping\n",
    "\n",
    "Use this notebook to experiment with alternative transition aggregations or feature augmentations." 
   ]
  },
  {
   "cell_type": "code",
   "execution_count": null,
   "metadata": {},
   "outputs": [],
   "source": [
    "import pandas as pd\n",
    "from src.pd_transition_matrix.feature_engineering import build_transition_features\n",
    "\n",
    "raw = pd.read_csv('../data/raw_transition_data.csv', parse_dates=['period_end'])\n",
    "features = build_transition_features(raw)\n",
    "features.head()"
   ]
  },
  {
   "cell_type": "markdown",
   "metadata": {},
   "source": [
    "The engineered dataset preserves the reporting period so analysts can trace how exposures evolve through time before the modeling step aggregates PDs across periods." 
   ]
  }
 ],
 "metadata": {
  "kernelspec": {
   "display_name": "Python 3",
   "language": "python",
   "name": "python3"
  },
  "language_info": {
   "name": "python",
   "version": "3.10"
  }
 },
 "nbformat": 4,
 "nbformat_minor": 5
}
