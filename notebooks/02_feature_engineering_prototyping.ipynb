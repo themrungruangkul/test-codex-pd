{
 "cells": [
  {
   "cell_type": "markdown",
   "metadata": {},
   "source": [
    "# Feature Engineering Prototyping\n\n",
    "Use this notebook to experiment with alternative transition aggregations or feature augmentations. It shares the same filtering configuration as the production pipeline so experiments stay aligned with governed reporting windows.\n"
   ]
  },
  {
   "cell_type": "code",
   "execution_count": null,
   "metadata": {},
   "outputs": [],
   "source": [
    "import pathlib\n",
    "import sys\n\n",
    "import pandas as pd\n\n",
    "PROJECT_ROOT = pathlib.Path('..').resolve()\n",
    "if str(PROJECT_ROOT) not in sys.path:\n",
    "    sys.path.insert(0, str(PROJECT_ROOT))\n\n",
    "from src.pd_transition_matrix import config\n",
    "from src.pd_transition_matrix.data_management import filter_raw_data\n",
    "from src.pd_transition_matrix.feature_engineering import build_transition_features\n"
   ]
  },
  {
   "cell_type": "code",
   "execution_count": null,
   "metadata": {},
   "outputs": [],
   "source": [
    "raw = pd.read_csv('../data/raw_transition_data.csv', parse_dates=['period_end'])\n",
    "transitions = filter_raw_data(raw, config.pipeline_config.filters)\n",
    "features = build_transition_features(transitions)\n",
    "features.head()\n"
   ]
  },
  {
   "cell_type": "markdown",
   "metadata": {},
   "source": [
    "The engineered dataset preserves the reporting period so analysts can trace how exposures evolve through time before the modeling step aggregates PDs across periods. Adjust the filters in `config.py` to explore alternative timelines or segment slices.\n"
   ]
  }
 ],
 "metadata": {
  "kernelspec": {
   "display_name": "Python 3",
   "language": "python",
   "name": "python3"
  },
  "language_info": {
   "name": "python",
   "version": "3.10"
  }
 },
 "nbformat": 4,
 "nbformat_minor": 5
}