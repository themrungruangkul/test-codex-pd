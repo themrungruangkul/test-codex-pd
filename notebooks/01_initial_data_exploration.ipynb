{
 "cells": [
  {
   "cell_type": "markdown",
   "metadata": {},
   "source": [
    "# Initial Data Exploration\n\n",
    "This notebook inspects the synthetic transition history shipped with the project so newcomers can understand the reporting periods, segments, and risk movements captured in the pipeline. The examples mirror the production configuration so the exploratory flow respects the same filters.\n"
   ]
  },
  {
   "cell_type": "code",
   "execution_count": null,
   "metadata": {},
   "outputs": [],
   "source": [
    "import pathlib\n",
    "import sys\n\n",
    "import pandas as pd\n\n",
    "PROJECT_ROOT = pathlib.Path('..').resolve()\n",
    "if str(PROJECT_ROOT) not in sys.path:\n",
    "    sys.path.insert(0, str(PROJECT_ROOT))\n\n",
    "from src.pd_transition_matrix import config\n",
    "from src.pd_transition_matrix.data_management import filter_raw_data\n"
   ]
  },
  {
   "cell_type": "code",
   "execution_count": null,
   "metadata": {},
   "outputs": [],
   "source": [
    "raw = pd.read_csv('../data/raw_transition_data.csv', parse_dates=['period_end'])\n",
    "raw.head()\n"
   ]
  },
  {
   "cell_type": "markdown",
   "metadata": {},
   "source": [
    "The pipeline applies guard rails before any heavy lifting. Below we re-use the exact configuration\u2014keeping only observations from 2024 onward and whatever segments are whitelisted\u2014to ensure the notebook reflects production assumptions.\n"
   ]
  },
  {
   "cell_type": "code",
   "execution_count": null,
   "metadata": {},
   "outputs": [],
   "source": [
    "filters = config.pipeline_config.filters\n",
    "filtered = filter_raw_data(raw, filters)\n",
    "filtered[['period_end', 'segment']].drop_duplicates().sort_values(['period_end', 'segment'])\n"
   ]
  },
  {
   "cell_type": "code",
   "execution_count": null,
   "metadata": {},
   "outputs": [],
   "source": [
    "summary = (\n",
    "    filtered.groupby(['period_end', 'segment', 'risk_bucket_start', 'risk_bucket_end', 'term_months'])['exposure']\n",
    "    .sum()\n",
    "    .reset_index()\n",
    ")\n",
    "summary.head(10)\n"
   ]
  },
  {
   "cell_type": "markdown",
   "metadata": {},
   "source": [
    "With the filters applied we now have a consistent 2024 reporting snapshot to analyse. Adjust the configuration in `config.PipelineFilters` to widen the window or focus on a particular segment before repeating the exploration.\n"
   ]
  }
 ],
 "metadata": {
  "kernelspec": {
   "display_name": "Python 3",
   "language": "python",
   "name": "python3"
  },
  "language_info": {
   "name": "python",
   "version": "3.10"
  }
 },
 "nbformat": 4,
 "nbformat_minor": 5
}