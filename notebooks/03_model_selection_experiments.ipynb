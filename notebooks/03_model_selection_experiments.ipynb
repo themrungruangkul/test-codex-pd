{
 "cells": [
  {
   "cell_type": "markdown",
   "metadata": {},
   "source": [
    "# Model Selection Experiments\n\n",
    "The base pipeline uses a transition matrix to derive PD term structures. This notebook demonstrates the baseline calculation so you can compare it with alternative techniques while respecting the same data filters applied in production.\n"
   ]
  },
  {
   "cell_type": "code",
   "execution_count": null,
   "metadata": {},
   "outputs": [],
   "source": [
    "import pathlib\n",
    "import sys\n\n",
    "import pandas as pd\n\n",
    "PROJECT_ROOT = pathlib.Path('..').resolve()\n",
    "if str(PROJECT_ROOT) not in sys.path:\n",
    "    sys.path.insert(0, str(PROJECT_ROOT))\n\n",
    "from src.pd_transition_matrix import config\n",
    "from src.pd_transition_matrix.data_management import filter_raw_data\n",
    "from src.pd_transition_matrix.feature_engineering import build_transition_features\n",
    "from src.pd_transition_matrix.modeling import calculate_segment_pd\n"
   ]
  },
  {
   "cell_type": "code",
   "execution_count": null,
   "metadata": {},
   "outputs": [],
   "source": [
    "raw = pd.read_csv('../data/raw_transition_data.csv', parse_dates=['period_end'])\n",
    "transitions = filter_raw_data(raw, config.pipeline_config.filters)\n",
    "features = build_transition_features(transitions)\n",
    "pd_table = calculate_segment_pd(features)\n",
    "pd_table.head()\n"
   ]
  },
  {
   "cell_type": "markdown",
   "metadata": {},
   "source": [
    "The resulting table mirrors the CSV saved to `outputs/reports/segment_pd_table.csv`. Extend this notebook with challenger models, calibration overlays, or visualisations. Update the filters in `config.py` when you want to stress different periods or portfolio slices.\n"
   ]
  }
 ],
 "metadata": {
  "kernelspec": {
   "display_name": "Python 3",
   "language": "python",
   "name": "python3"
  },
  "language_info": {
   "name": "python",
   "version": "3.10"
  }
 },
 "nbformat": 4,
 "nbformat_minor": 5
}